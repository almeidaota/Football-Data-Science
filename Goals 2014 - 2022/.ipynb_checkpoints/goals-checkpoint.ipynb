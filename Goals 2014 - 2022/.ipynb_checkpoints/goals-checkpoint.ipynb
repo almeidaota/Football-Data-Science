{
 "cells": [
  {
   "cell_type": "code",
   "execution_count": 85,
   "id": "637ff2b6-cc7a-429c-bdd3-2ef8a0e43a34",
   "metadata": {
    "tags": []
   },
   "outputs": [],
   "source": [
    "import pandas as pd"
   ]
  },
  {
   "cell_type": "code",
   "execution_count": 86,
   "id": "94bdb423-7e46-4690-bce7-698c299640c6",
   "metadata": {
    "tags": []
   },
   "outputs": [],
   "source": [
    "df = pd.read_csv(\"campeonato-brasileiro-gols.csv\")\n",
    "df.fillna(\"Gol Normal\", inplace = True)"
   ]
  },
  {
   "cell_type": "code",
   "execution_count": 87,
   "id": "c2262656-6fbd-40cf-aa92-ce8948ac5e46",
   "metadata": {
    "tags": []
   },
   "outputs": [
    {
     "data": {
      "text/html": [
       "<div>\n",
       "<style scoped>\n",
       "    .dataframe tbody tr th:only-of-type {\n",
       "        vertical-align: middle;\n",
       "    }\n",
       "\n",
       "    .dataframe tbody tr th {\n",
       "        vertical-align: top;\n",
       "    }\n",
       "\n",
       "    .dataframe thead th {\n",
       "        text-align: right;\n",
       "    }\n",
       "</style>\n",
       "<table border=\"1\" class=\"dataframe\">\n",
       "  <thead>\n",
       "    <tr style=\"text-align: right;\">\n",
       "      <th></th>\n",
       "      <th>partida_id</th>\n",
       "      <th>rodata</th>\n",
       "      <th>clube</th>\n",
       "      <th>atleta</th>\n",
       "      <th>minuto</th>\n",
       "      <th>tipo_de_gol</th>\n",
       "    </tr>\n",
       "  </thead>\n",
       "  <tbody>\n",
       "    <tr>\n",
       "      <th>0</th>\n",
       "      <td>4607</td>\n",
       "      <td>1</td>\n",
       "      <td>Fluminense</td>\n",
       "      <td>Fred</td>\n",
       "      <td>45</td>\n",
       "      <td>Penalty</td>\n",
       "    </tr>\n",
       "    <tr>\n",
       "      <th>1</th>\n",
       "      <td>4607</td>\n",
       "      <td>1</td>\n",
       "      <td>Fluminense</td>\n",
       "      <td>Nirley da Silva Fonseca</td>\n",
       "      <td>59</td>\n",
       "      <td>Gol Contra</td>\n",
       "    </tr>\n",
       "    <tr>\n",
       "      <th>2</th>\n",
       "      <td>4607</td>\n",
       "      <td>1</td>\n",
       "      <td>Fluminense</td>\n",
       "      <td>Rafael Sóbis</td>\n",
       "      <td>31</td>\n",
       "      <td>Gol Normal</td>\n",
       "    </tr>\n",
       "    <tr>\n",
       "      <th>3</th>\n",
       "      <td>4608</td>\n",
       "      <td>1</td>\n",
       "      <td>Internacional</td>\n",
       "      <td>Charles Aránguiz</td>\n",
       "      <td>6</td>\n",
       "      <td>Gol Normal</td>\n",
       "    </tr>\n",
       "    <tr>\n",
       "      <th>4</th>\n",
       "      <td>4611</td>\n",
       "      <td>1</td>\n",
       "      <td>Sao Paulo</td>\n",
       "      <td>Antônio Carlos dos Santos Aguiar</td>\n",
       "      <td>13</td>\n",
       "      <td>Gol Normal</td>\n",
       "    </tr>\n",
       "  </tbody>\n",
       "</table>\n",
       "</div>"
      ],
      "text/plain": [
       "   partida_id  rodata          clube                            atleta minuto  \\\n",
       "0        4607       1     Fluminense                              Fred     45   \n",
       "1        4607       1     Fluminense           Nirley da Silva Fonseca     59   \n",
       "2        4607       1     Fluminense                      Rafael Sóbis     31   \n",
       "3        4608       1  Internacional                  Charles Aránguiz      6   \n",
       "4        4611       1      Sao Paulo  Antônio Carlos dos Santos Aguiar     13   \n",
       "\n",
       "  tipo_de_gol  \n",
       "0     Penalty  \n",
       "1  Gol Contra  \n",
       "2  Gol Normal  \n",
       "3  Gol Normal  \n",
       "4  Gol Normal  "
      ]
     },
     "execution_count": 87,
     "metadata": {},
     "output_type": "execute_result"
    }
   ],
   "source": [
    "df.head()"
   ]
  },
  {
   "cell_type": "code",
   "execution_count": 88,
   "id": "3a2e72ee-3e58-43f8-ad0f-0801eca073d6",
   "metadata": {
    "tags": []
   },
   "outputs": [],
   "source": [
    "#criando uma lista de atletas \n",
    "atletas = df['atleta'].value_counts()\n",
    "atletas = atletas.index.tolist()"
   ]
  },
  {
   "cell_type": "code",
   "execution_count": 89,
   "id": "4a98b6f5-4089-4a9d-89a8-e8fe42d6ac6c",
   "metadata": {
    "tags": []
   },
   "outputs": [],
   "source": [
    "#criando dataframe dos gols\n",
    "\n",
    "gols = pd.DataFrame(columns = [\"Jogador\", \"Gols Normais\", \"Gols Penalti\", \"Gols Contra\", \"Gols Totais\"])"
   ]
  },
  {
   "cell_type": "code",
   "execution_count": 90,
   "id": "8acdafe0-2b81-479a-83c5-fede4971df78",
   "metadata": {
    "tags": []
   },
   "outputs": [
    {
     "data": {
      "text/plain": [
       "Index(['Jogador', 'Gols Normais', 'Gols Penalti', 'Gols Contra',\n",
       "       'Gols Totais'],\n",
       "      dtype='object')"
      ]
     },
     "execution_count": 90,
     "metadata": {},
     "output_type": "execute_result"
    }
   ],
   "source": [
    "gols.columns\n"
   ]
  },
  {
   "cell_type": "code",
   "execution_count": 91,
   "id": "6153f17a-f875-4799-a2ac-e31b309c49f9",
   "metadata": {
    "tags": []
   },
   "outputs": [],
   "source": [
    "for i in atletas:\n",
    "    \n",
    "    jogador = i\n",
    "    \n",
    "    #calculando gols\n",
    "    gols_normais = df.loc[(df['atleta'] == jogador) & (df['tipo_de_gol'] == \"Gol Normal\")].shape[0]\n",
    "    gols_penalty = df.loc[(df['atleta'] == jogador) & (df['tipo_de_gol'] == \"Penalty\")].shape[0]\n",
    "    gols_contra = df.loc[(df['atleta'] == jogador) & (df['tipo_de_gol'] == \"Gol Contra\")].shape[0]\n",
    "    gols_totais = gols_penalty + gols_normais\n",
    "    \n",
    "    \n",
    "    #adding new row\n",
    "    new_row = {\"Jogador\": jogador, \"Gols Normais\": gols_normais, \"Gols Penalti\": gols_penalty, \"Gols Contra\": gols_contra,\"Gols Totais\": gols_totais}    \n",
    "    gols.loc[len(gols)] = new_row\n"
   ]
  },
  {
   "cell_type": "code",
   "execution_count": 97,
   "id": "58c3f93a-460a-4ad7-8d9a-519eea9fb98a",
   "metadata": {
    "tags": []
   },
   "outputs": [
    {
     "data": {
      "text/html": [
       "<div>\n",
       "<style scoped>\n",
       "    .dataframe tbody tr th:only-of-type {\n",
       "        vertical-align: middle;\n",
       "    }\n",
       "\n",
       "    .dataframe tbody tr th {\n",
       "        vertical-align: top;\n",
       "    }\n",
       "\n",
       "    .dataframe thead th {\n",
       "        text-align: right;\n",
       "    }\n",
       "</style>\n",
       "<table border=\"1\" class=\"dataframe\">\n",
       "  <thead>\n",
       "    <tr style=\"text-align: right;\">\n",
       "      <th></th>\n",
       "      <th>Jogador</th>\n",
       "      <th>Gols Normais</th>\n",
       "      <th>Gols Penalti</th>\n",
       "      <th>Gols Contra</th>\n",
       "      <th>Gols Totais</th>\n",
       "    </tr>\n",
       "  </thead>\n",
       "  <tbody>\n",
       "    <tr>\n",
       "      <th>204</th>\n",
       "      <td>Rogério Ceni</td>\n",
       "      <td>1</td>\n",
       "      <td>10</td>\n",
       "      <td>0</td>\n",
       "      <td>11</td>\n",
       "    </tr>\n",
       "  </tbody>\n",
       "</table>\n",
       "</div>"
      ],
      "text/plain": [
       "          Jogador  Gols Normais  Gols Penalti  Gols Contra  Gols Totais\n",
       "204  Rogério Ceni             1            10            0           11"
      ]
     },
     "execution_count": 97,
     "metadata": {},
     "output_type": "execute_result"
    }
   ],
   "source": [
    "gols.loc[gols['Jogador'] == \"Rogério Ceni\"]"
   ]
  },
  {
   "cell_type": "code",
   "execution_count": null,
   "id": "0222162a-cd93-42ab-a1db-9bb4fb119d41",
   "metadata": {},
   "outputs": [],
   "source": []
  },
  {
   "cell_type": "code",
   "execution_count": null,
   "id": "03f3d9d8-023b-422b-bcdc-f0cdf18c7b11",
   "metadata": {},
   "outputs": [],
   "source": []
  },
  {
   "cell_type": "code",
   "execution_count": null,
   "id": "a03ce40b-2382-4369-af72-bd9dd5c23e52",
   "metadata": {},
   "outputs": [],
   "source": []
  },
  {
   "cell_type": "code",
   "execution_count": null,
   "id": "4b72dd08-cfc2-48ae-acee-49ba786c4420",
   "metadata": {},
   "outputs": [],
   "source": []
  },
  {
   "cell_type": "code",
   "execution_count": null,
   "id": "1d793d22-c9ab-4f9f-9b27-71a879dd5f21",
   "metadata": {},
   "outputs": [],
   "source": []
  },
  {
   "cell_type": "code",
   "execution_count": null,
   "id": "9eaa22d1-93d8-4589-9423-409fd29156d4",
   "metadata": {},
   "outputs": [],
   "source": []
  },
  {
   "cell_type": "code",
   "execution_count": null,
   "id": "97f31f43-74bc-46f4-8e3d-8d57b0dcaf37",
   "metadata": {},
   "outputs": [],
   "source": []
  },
  {
   "cell_type": "code",
   "execution_count": null,
   "id": "740773ae-d126-475c-a208-02fb9b48d6ec",
   "metadata": {},
   "outputs": [],
   "source": []
  }
 ],
 "metadata": {
  "kernelspec": {
   "display_name": "Python 3 (ipykernel)",
   "language": "python",
   "name": "python3"
  },
  "language_info": {
   "codemirror_mode": {
    "name": "ipython",
    "version": 3
   },
   "file_extension": ".py",
   "mimetype": "text/x-python",
   "name": "python",
   "nbconvert_exporter": "python",
   "pygments_lexer": "ipython3",
   "version": "3.11.3"
  }
 },
 "nbformat": 4,
 "nbformat_minor": 5
}
