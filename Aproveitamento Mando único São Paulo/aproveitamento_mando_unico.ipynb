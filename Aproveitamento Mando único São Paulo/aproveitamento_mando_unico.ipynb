{
 "cells": [
  {
   "cell_type": "code",
   "execution_count": 1,
   "id": "547aac2a",
   "metadata": {},
   "outputs": [],
   "source": [
    "import pandas as pd"
   ]
  },
  {
   "cell_type": "code",
   "execution_count": 2,
   "id": "d2e1f0cb",
   "metadata": {},
   "outputs": [],
   "source": [
    "def calc_performance(times, df):\n",
    "    performance_df = []\n",
    "    for i in times:\n",
    "        \n",
    "        time = i\n",
    "        vitorias_time = df[(df['vencedor'] == time) & (df['mandante'] == time)].shape[0]\n",
    "        derrotas_time = df[(df['vencedor'] == df['visitante']) & (df['mandante'] == time)].shape[0]\n",
    "        empates_time = df[(df['vencedor'] == '-') & (df['mandante'] == time)].shape[0]\n",
    "        pconq = (vitorias_time * 3) + empates_time\n",
    "        ptot = (vitorias_time + derrotas_time + empates_time) * 3\n",
    "        aproveitamento = pconq / ptot * 100\n",
    "        new_row = {'time': time, 'vitorias': vitorias_time, 'derrotas': derrotas_time, 'empates': empates_time, 'aproveitamento':aproveitamento}\n",
    "        performance_df.append(new_row)\n",
    "        \n",
    "    performance_df = pd.DataFrame(data = performance_df, columns = ['time', 'vitorias', 'derrotas', 'empates', 'aproveitamento'])\n",
    "    performance_df = performance_df.sort_values(by = 'aproveitamento', ascending=False)\n",
    "    return performance_df"
   ]
  },
  {
   "cell_type": "code",
   "execution_count": null,
   "id": "9b8a84a6",
   "metadata": {},
   "outputs": [],
   "source": [
    "times_sp = ['Sao Paulo', 'Santos', 'Palmeiras', 'Corinthians']\n",
    "times_rj = ['Fluminense', 'Flamengo', 'Botafogo-RJ', 'Vasco']\n",
    "times_rs = ['Gremio', 'Internacional']\n",
    "times_ce = ['Ceara', 'Fortaleza']\n",
    "times_mg = ['Atletico-MG', 'Cruzeiro']\n",
    "times_ba = ['Bahia', 'Vitoria']\n",
    "times = times_mg"
   ]
  },
  {
   "cell_type": "code",
   "execution_count": 4,
   "id": "55235a62",
   "metadata": {},
   "outputs": [],
   "source": [
    "df = pd.read_csv(r'/home/otavio/Documents/studies/projects/football_playground/Datasets/campeonato-brasileiro-full.csv')\n",
    "df['data'] = pd.to_datetime(df['data'], dayfirst=True)\n",
    "df = df[df['mandante'].isin(times)]\n",
    "df = df[df['visitante'].isin(times)]\n"
   ]
  },
  {
   "cell_type": "code",
   "execution_count": 5,
   "id": "ccc9b771",
   "metadata": {},
   "outputs": [],
   "source": [
    "df_pre_mandante = df[df['data'] < '04/04/2016']\n",
    "df_pos_mandante = df[df['data'] > '04/04/2016']"
   ]
  },
  {
   "cell_type": "code",
   "execution_count": 6,
   "id": "ac1b588d",
   "metadata": {},
   "outputs": [],
   "source": [
    "performance_pre_df = calc_performance(times, df_pre_mandante)\n",
    "performance_pos_df = calc_performance(times, df_pos_mandante)"
   ]
  },
  {
   "cell_type": "code",
   "execution_count": 7,
   "id": "eb33c576",
   "metadata": {},
   "outputs": [
    {
     "data": {
      "text/html": [
       "<div>\n",
       "<style scoped>\n",
       "    .dataframe tbody tr th:only-of-type {\n",
       "        vertical-align: middle;\n",
       "    }\n",
       "\n",
       "    .dataframe tbody tr th {\n",
       "        vertical-align: top;\n",
       "    }\n",
       "\n",
       "    .dataframe thead th {\n",
       "        text-align: right;\n",
       "    }\n",
       "</style>\n",
       "<table border=\"1\" class=\"dataframe\">\n",
       "  <thead>\n",
       "    <tr style=\"text-align: right;\">\n",
       "      <th></th>\n",
       "      <th>time</th>\n",
       "      <th>vitorias</th>\n",
       "      <th>derrotas</th>\n",
       "      <th>empates</th>\n",
       "      <th>aproveitamento</th>\n",
       "    </tr>\n",
       "  </thead>\n",
       "  <tbody>\n",
       "    <tr>\n",
       "      <th>1</th>\n",
       "      <td>Cruzeiro</td>\n",
       "      <td>5</td>\n",
       "      <td>4</td>\n",
       "      <td>3</td>\n",
       "      <td>50.000000</td>\n",
       "    </tr>\n",
       "    <tr>\n",
       "      <th>0</th>\n",
       "      <td>Atletico-MG</td>\n",
       "      <td>4</td>\n",
       "      <td>8</td>\n",
       "      <td>0</td>\n",
       "      <td>33.333333</td>\n",
       "    </tr>\n",
       "  </tbody>\n",
       "</table>\n",
       "</div>"
      ],
      "text/plain": [
       "          time  vitorias  derrotas  empates  aproveitamento\n",
       "1     Cruzeiro         5         4        3       50.000000\n",
       "0  Atletico-MG         4         8        0       33.333333"
      ]
     },
     "execution_count": 7,
     "metadata": {},
     "output_type": "execute_result"
    }
   ],
   "source": [
    "performance_pre_df"
   ]
  },
  {
   "cell_type": "code",
   "execution_count": 8,
   "id": "9e167e65",
   "metadata": {},
   "outputs": [
    {
     "data": {
      "text/html": [
       "<div>\n",
       "<style scoped>\n",
       "    .dataframe tbody tr th:only-of-type {\n",
       "        vertical-align: middle;\n",
       "    }\n",
       "\n",
       "    .dataframe tbody tr th {\n",
       "        vertical-align: top;\n",
       "    }\n",
       "\n",
       "    .dataframe thead th {\n",
       "        text-align: right;\n",
       "    }\n",
       "</style>\n",
       "<table border=\"1\" class=\"dataframe\">\n",
       "  <thead>\n",
       "    <tr style=\"text-align: right;\">\n",
       "      <th></th>\n",
       "      <th>time</th>\n",
       "      <th>vitorias</th>\n",
       "      <th>derrotas</th>\n",
       "      <th>empates</th>\n",
       "      <th>aproveitamento</th>\n",
       "    </tr>\n",
       "  </thead>\n",
       "  <tbody>\n",
       "    <tr>\n",
       "      <th>0</th>\n",
       "      <td>Atletico-MG</td>\n",
       "      <td>4</td>\n",
       "      <td>2</td>\n",
       "      <td>0</td>\n",
       "      <td>66.666667</td>\n",
       "    </tr>\n",
       "    <tr>\n",
       "      <th>1</th>\n",
       "      <td>Cruzeiro</td>\n",
       "      <td>0</td>\n",
       "      <td>2</td>\n",
       "      <td>4</td>\n",
       "      <td>22.222222</td>\n",
       "    </tr>\n",
       "  </tbody>\n",
       "</table>\n",
       "</div>"
      ],
      "text/plain": [
       "          time  vitorias  derrotas  empates  aproveitamento\n",
       "0  Atletico-MG         4         2        0       66.666667\n",
       "1     Cruzeiro         0         2        4       22.222222"
      ]
     },
     "execution_count": 8,
     "metadata": {},
     "output_type": "execute_result"
    }
   ],
   "source": [
    "performance_pos_df"
   ]
  },
  {
   "cell_type": "code",
   "execution_count": 9,
   "id": "ffe7de00",
   "metadata": {},
   "outputs": [],
   "source": [
    "df_pos_mandante = df_pos_mandante[df_pos_mandante['mandante'] == 'Internacional']"
   ]
  },
  {
   "cell_type": "code",
   "execution_count": 10,
   "id": "3b0e9144",
   "metadata": {},
   "outputs": [
    {
     "data": {
      "text/html": [
       "<div>\n",
       "<style scoped>\n",
       "    .dataframe tbody tr th:only-of-type {\n",
       "        vertical-align: middle;\n",
       "    }\n",
       "\n",
       "    .dataframe tbody tr th {\n",
       "        vertical-align: top;\n",
       "    }\n",
       "\n",
       "    .dataframe thead th {\n",
       "        text-align: right;\n",
       "    }\n",
       "</style>\n",
       "<table border=\"1\" class=\"dataframe\">\n",
       "  <thead>\n",
       "    <tr style=\"text-align: right;\">\n",
       "      <th></th>\n",
       "      <th>ID</th>\n",
       "      <th>rodata</th>\n",
       "      <th>data</th>\n",
       "      <th>hora</th>\n",
       "      <th>mandante</th>\n",
       "      <th>visitante</th>\n",
       "      <th>formacao_mandante</th>\n",
       "      <th>formacao_visitante</th>\n",
       "      <th>tecnico_mandante</th>\n",
       "      <th>tecnico_visitante</th>\n",
       "      <th>vencedor</th>\n",
       "      <th>arena</th>\n",
       "      <th>mandante_Placar</th>\n",
       "      <th>visitante_Placar</th>\n",
       "      <th>mandante_Estado</th>\n",
       "      <th>visitante_Estado</th>\n",
       "    </tr>\n",
       "  </thead>\n",
       "  <tbody>\n",
       "  </tbody>\n",
       "</table>\n",
       "</div>"
      ],
      "text/plain": [
       "Empty DataFrame\n",
       "Columns: [ID, rodata, data, hora, mandante, visitante, formacao_mandante, formacao_visitante, tecnico_mandante, tecnico_visitante, vencedor, arena, mandante_Placar, visitante_Placar, mandante_Estado, visitante_Estado]\n",
       "Index: []"
      ]
     },
     "execution_count": 10,
     "metadata": {},
     "output_type": "execute_result"
    }
   ],
   "source": [
    "df_pos_mandante"
   ]
  },
  {
   "cell_type": "code",
   "execution_count": null,
   "id": "b2e40614",
   "metadata": {},
   "outputs": [],
   "source": []
  }
 ],
 "metadata": {
  "kernelspec": {
   "display_name": ".venv",
   "language": "python",
   "name": "python3"
  },
  "language_info": {
   "codemirror_mode": {
    "name": "ipython",
    "version": 3
   },
   "file_extension": ".py",
   "mimetype": "text/x-python",
   "name": "python",
   "nbconvert_exporter": "python",
   "pygments_lexer": "ipython3",
   "version": "3.10.12"
  }
 },
 "nbformat": 4,
 "nbformat_minor": 5
}
