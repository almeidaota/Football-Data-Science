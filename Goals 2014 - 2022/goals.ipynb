{
 "cells": [
  {
   "cell_type": "code",
   "execution_count": 1,
   "id": "637ff2b6-cc7a-429c-bdd3-2ef8a0e43a34",
   "metadata": {
    "tags": []
   },
   "outputs": [],
   "source": [
    "import pandas as pd"
   ]
  },
  {
   "cell_type": "code",
   "execution_count": 2,
   "id": "94bdb423-7e46-4690-bce7-698c299640c6",
   "metadata": {
    "tags": []
   },
   "outputs": [],
   "source": [
    "df = pd.read_csv(\"campeonato-brasileiro-gols.csv\")\n",
    "df.fillna(\"Gol Normal\", inplace = True)"
   ]
  },
  {
   "cell_type": "code",
   "execution_count": 3,
   "id": "3a2e72ee-3e58-43f8-ad0f-0801eca073d6",
   "metadata": {
    "tags": []
   },
   "outputs": [],
   "source": [
    "#criando uma lista de atletas \n",
    "atletas = df['atleta'].value_counts()\n",
    "atletas = atletas.index.tolist()"
   ]
  },
  {
   "cell_type": "code",
   "execution_count": 4,
   "id": "6153f17a-f875-4799-a2ac-e31b309c49f9",
   "metadata": {
    "tags": []
   },
   "outputs": [],
   "source": [
    "goal_list = []\n",
    "for i in atletas:\n",
    "    \n",
    "    jogador = i\n",
    "    \n",
    "    #calculando gols\n",
    "    gols_normais = df.loc[(df['atleta'] == jogador) & (df['tipo_de_gol'] == \"Gol Normal\")].shape[0]\n",
    "    gols_penalty = df.loc[(df['atleta'] == jogador) & (df['tipo_de_gol'] == \"Penalty\")].shape[0]\n",
    "    gols_contra = df.loc[(df['atleta'] == jogador) & (df['tipo_de_gol'] == \"Gol Contra\")].shape[0]\n",
    "    gols_totais = gols_penalty + gols_normais\n",
    "    \n",
    "    \n",
    "    #adding new row\n",
    "    new_row = {\"Jogador\": jogador, \"Gols Normais\": gols_normais, \"Gols Penalti\": gols_penalty, \"Gols Contra\": gols_contra,\"Gols Totais\": gols_totais}    \n",
    "    goal_list.append(new_row)\n"
   ]
  },
  {
   "cell_type": "code",
   "execution_count": 5,
   "id": "58c3f93a-460a-4ad7-8d9a-519eea9fb98a",
   "metadata": {
    "tags": []
   },
   "outputs": [
    {
     "data": {
      "text/html": [
       "<div>\n",
       "<style scoped>\n",
       "    .dataframe tbody tr th:only-of-type {\n",
       "        vertical-align: middle;\n",
       "    }\n",
       "\n",
       "    .dataframe tbody tr th {\n",
       "        vertical-align: top;\n",
       "    }\n",
       "\n",
       "    .dataframe thead th {\n",
       "        text-align: right;\n",
       "    }\n",
       "</style>\n",
       "<table border=\"1\" class=\"dataframe\">\n",
       "  <thead>\n",
       "    <tr style=\"text-align: right;\">\n",
       "      <th></th>\n",
       "      <th>Jogador</th>\n",
       "      <th>Gols Normais</th>\n",
       "      <th>Gols Penalti</th>\n",
       "      <th>Gols Contra</th>\n",
       "      <th>Gols Totais</th>\n",
       "    </tr>\n",
       "  </thead>\n",
       "  <tbody>\n",
       "    <tr>\n",
       "      <th>0</th>\n",
       "      <td>Gabriel Barbosa</td>\n",
       "      <td>74</td>\n",
       "      <td>18</td>\n",
       "      <td>0</td>\n",
       "      <td>92</td>\n",
       "    </tr>\n",
       "    <tr>\n",
       "      <th>1</th>\n",
       "      <td>Fred</td>\n",
       "      <td>66</td>\n",
       "      <td>15</td>\n",
       "      <td>0</td>\n",
       "      <td>81</td>\n",
       "    </tr>\n",
       "    <tr>\n",
       "      <th>2</th>\n",
       "      <td>Diego Souza</td>\n",
       "      <td>65</td>\n",
       "      <td>15</td>\n",
       "      <td>0</td>\n",
       "      <td>80</td>\n",
       "    </tr>\n",
       "    <tr>\n",
       "      <th>3</th>\n",
       "      <td>Bruno Henrique</td>\n",
       "      <td>57</td>\n",
       "      <td>1</td>\n",
       "      <td>1</td>\n",
       "      <td>58</td>\n",
       "    </tr>\n",
       "    <tr>\n",
       "      <th>4</th>\n",
       "      <td>Ricardo Oliveira</td>\n",
       "      <td>51</td>\n",
       "      <td>5</td>\n",
       "      <td>0</td>\n",
       "      <td>56</td>\n",
       "    </tr>\n",
       "  </tbody>\n",
       "</table>\n",
       "</div>"
      ],
      "text/plain": [
       "            Jogador  Gols Normais  Gols Penalti  Gols Contra  Gols Totais\n",
       "0   Gabriel Barbosa            74            18            0           92\n",
       "1              Fred            66            15            0           81\n",
       "2       Diego Souza            65            15            0           80\n",
       "3    Bruno Henrique            57             1            1           58\n",
       "4  Ricardo Oliveira            51             5            0           56"
      ]
     },
     "execution_count": 5,
     "metadata": {},
     "output_type": "execute_result"
    }
   ],
   "source": [
    "gols = pd.DataFrame(data=goal_list, columns = [\"Jogador\", \"Gols Normais\", \"Gols Penalti\", \"Gols Contra\", \"Gols Totais\"])\n",
    "gols.head()"
   ]
  },
  {
   "cell_type": "code",
   "execution_count": null,
   "id": "7f0e3ed9-3f81-4fae-8909-e5060ff62baa",
   "metadata": {},
   "outputs": [],
   "source": []
  }
 ],
 "metadata": {
  "kernelspec": {
   "display_name": "Python 3 (ipykernel)",
   "language": "python",
   "name": "python3"
  },
  "language_info": {
   "codemirror_mode": {
    "name": "ipython",
    "version": 3
   },
   "file_extension": ".py",
   "mimetype": "text/x-python",
   "name": "python",
   "nbconvert_exporter": "python",
   "pygments_lexer": "ipython3",
   "version": "3.11.5"
  }
 },
 "nbformat": 4,
 "nbformat_minor": 5
}
