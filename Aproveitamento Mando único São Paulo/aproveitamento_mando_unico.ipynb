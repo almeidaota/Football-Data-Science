{
 "cells": [
  {
   "cell_type": "code",
   "execution_count": 21,
   "id": "547aac2a",
   "metadata": {},
   "outputs": [],
   "source": [
    "import pandas as pd"
   ]
  },
  {
   "cell_type": "code",
   "execution_count": 22,
   "id": "d2e1f0cb",
   "metadata": {},
   "outputs": [],
   "source": [
    "def calc_performance(times, df):\n",
    "    performance_df = []\n",
    "    for i in times:\n",
    "        \n",
    "        time = i\n",
    "        vitorias_time = df[(df['vencedor'] == time) & (df['mandante'] == time)].shape[0]\n",
    "        derrotas_time = df[(df['vencedor'] == df['visitante']) & (df['mandante'] == time)].shape[0]\n",
    "        empates_time = df[(df['vencedor'] == '-') & (df['mandante'] == time)].shape[0]\n",
    "        pconq = (vitorias_time * 3) + empates_time\n",
    "        ptot = (vitorias_time + derrotas_time + empates_time) * 3\n",
    "        aproveitamento = pconq / ptot * 100\n",
    "        new_row = {'time': time, 'vitorias': vitorias_time, 'derrotas': derrotas_time, 'empates': empates_time, 'aproveitamento':aproveitamento}\n",
    "        performance_df.append(new_row)\n",
    "        \n",
    "    performance_df = pd.DataFrame(data = performance_df, columns = ['time', 'vitorias', 'derrotas', 'empates', 'aproveitamento'])\n",
    "    performance_df = performance_df.sort_values(by = 'aproveitamento', ascending=False)\n",
    "    return performance_df"
   ]
  },
  {
   "cell_type": "code",
   "execution_count": null,
   "id": "9b8a84a6",
   "metadata": {},
   "outputs": [],
   "source": [
    "times_sp = ['Sao Paulo', 'Santos', 'Palmeiras', 'Corinthians']\n",
    "times_rj = ['Fluminense', 'Flamengo', 'Botafogo-RJ', 'Vasco']\n",
    "times_rs = ['Gremio', 'Internacional']\n",
    "times_ce = ['Ceara', 'Fortaleza']\n",
    "times_mg = ['Atletico-MG', 'Cruzeiro']\n",
    "times_ba = ['Bahia', 'Vitoria']\n",
    "times = times_sp ##trocar para o que quiser ver"
   ]
  },
  {
   "cell_type": "code",
   "execution_count": null,
   "id": "55235a62",
   "metadata": {},
   "outputs": [],
   "source": [
    "df = pd.read_csv(r'/home/otavio/Documents/studies/projects/football_playground/Datasets/campeonato-brasileiro-full.csv') #trocar seu csv aqui \n",
    "df['data'] = pd.to_datetime(df['data'], dayfirst=True)\n",
    "df = df[df['mandante'].isin(times)]\n",
    "df = df[df['visitante'].isin(times)]\n"
   ]
  },
  {
   "cell_type": "code",
   "execution_count": 25,
   "id": "ccc9b771",
   "metadata": {},
   "outputs": [],
   "source": [
    "df_pre_mandante = df[df['data'] < '04/04/2016']\n",
    "df_pos_mandante = df[df['data'] > '04/04/2016']"
   ]
  },
  {
   "cell_type": "code",
   "execution_count": 26,
   "id": "ac1b588d",
   "metadata": {},
   "outputs": [],
   "source": [
    "performance_pre_df = calc_performance(times, df_pre_mandante)\n",
    "performance_pos_df = calc_performance(times, df_pos_mandante)"
   ]
  },
  {
   "cell_type": "code",
   "execution_count": 27,
   "id": "eb33c576",
   "metadata": {},
   "outputs": [
    {
     "data": {
      "text/html": [
       "<div>\n",
       "<style scoped>\n",
       "    .dataframe tbody tr th:only-of-type {\n",
       "        vertical-align: middle;\n",
       "    }\n",
       "\n",
       "    .dataframe tbody tr th {\n",
       "        vertical-align: top;\n",
       "    }\n",
       "\n",
       "    .dataframe thead th {\n",
       "        text-align: right;\n",
       "    }\n",
       "</style>\n",
       "<table border=\"1\" class=\"dataframe\">\n",
       "  <thead>\n",
       "    <tr style=\"text-align: right;\">\n",
       "      <th></th>\n",
       "      <th>time</th>\n",
       "      <th>vitorias</th>\n",
       "      <th>derrotas</th>\n",
       "      <th>empates</th>\n",
       "      <th>aproveitamento</th>\n",
       "    </tr>\n",
       "  </thead>\n",
       "  <tbody>\n",
       "    <tr>\n",
       "      <th>1</th>\n",
       "      <td>Flamengo</td>\n",
       "      <td>13</td>\n",
       "      <td>7</td>\n",
       "      <td>14</td>\n",
       "      <td>51.960784</td>\n",
       "    </tr>\n",
       "    <tr>\n",
       "      <th>3</th>\n",
       "      <td>Vasco</td>\n",
       "      <td>12</td>\n",
       "      <td>7</td>\n",
       "      <td>12</td>\n",
       "      <td>51.612903</td>\n",
       "    </tr>\n",
       "    <tr>\n",
       "      <th>2</th>\n",
       "      <td>Botafogo-RJ</td>\n",
       "      <td>9</td>\n",
       "      <td>6</td>\n",
       "      <td>17</td>\n",
       "      <td>45.833333</td>\n",
       "    </tr>\n",
       "    <tr>\n",
       "      <th>0</th>\n",
       "      <td>Fluminense</td>\n",
       "      <td>12</td>\n",
       "      <td>14</td>\n",
       "      <td>9</td>\n",
       "      <td>42.857143</td>\n",
       "    </tr>\n",
       "  </tbody>\n",
       "</table>\n",
       "</div>"
      ],
      "text/plain": [
       "          time  vitorias  derrotas  empates  aproveitamento\n",
       "1     Flamengo        13         7       14       51.960784\n",
       "3        Vasco        12         7       12       51.612903\n",
       "2  Botafogo-RJ         9         6       17       45.833333\n",
       "0   Fluminense        12        14        9       42.857143"
      ]
     },
     "execution_count": 27,
     "metadata": {},
     "output_type": "execute_result"
    }
   ],
   "source": [
    "performance_pre_df"
   ]
  },
  {
   "cell_type": "code",
   "execution_count": 28,
   "id": "9e167e65",
   "metadata": {},
   "outputs": [
    {
     "data": {
      "text/html": [
       "<div>\n",
       "<style scoped>\n",
       "    .dataframe tbody tr th:only-of-type {\n",
       "        vertical-align: middle;\n",
       "    }\n",
       "\n",
       "    .dataframe tbody tr th {\n",
       "        vertical-align: top;\n",
       "    }\n",
       "\n",
       "    .dataframe thead th {\n",
       "        text-align: right;\n",
       "    }\n",
       "</style>\n",
       "<table border=\"1\" class=\"dataframe\">\n",
       "  <thead>\n",
       "    <tr style=\"text-align: right;\">\n",
       "      <th></th>\n",
       "      <th>time</th>\n",
       "      <th>vitorias</th>\n",
       "      <th>derrotas</th>\n",
       "      <th>empates</th>\n",
       "      <th>aproveitamento</th>\n",
       "    </tr>\n",
       "  </thead>\n",
       "  <tbody>\n",
       "    <tr>\n",
       "      <th>2</th>\n",
       "      <td>Botafogo-RJ</td>\n",
       "      <td>11</td>\n",
       "      <td>8</td>\n",
       "      <td>3</td>\n",
       "      <td>54.545455</td>\n",
       "    </tr>\n",
       "    <tr>\n",
       "      <th>3</th>\n",
       "      <td>Vasco</td>\n",
       "      <td>8</td>\n",
       "      <td>6</td>\n",
       "      <td>4</td>\n",
       "      <td>51.851852</td>\n",
       "    </tr>\n",
       "    <tr>\n",
       "      <th>1</th>\n",
       "      <td>Flamengo</td>\n",
       "      <td>6</td>\n",
       "      <td>8</td>\n",
       "      <td>9</td>\n",
       "      <td>39.130435</td>\n",
       "    </tr>\n",
       "    <tr>\n",
       "      <th>0</th>\n",
       "      <td>Fluminense</td>\n",
       "      <td>6</td>\n",
       "      <td>11</td>\n",
       "      <td>6</td>\n",
       "      <td>34.782609</td>\n",
       "    </tr>\n",
       "  </tbody>\n",
       "</table>\n",
       "</div>"
      ],
      "text/plain": [
       "          time  vitorias  derrotas  empates  aproveitamento\n",
       "2  Botafogo-RJ        11         8        3       54.545455\n",
       "3        Vasco         8         6        4       51.851852\n",
       "1     Flamengo         6         8        9       39.130435\n",
       "0   Fluminense         6        11        6       34.782609"
      ]
     },
     "execution_count": 28,
     "metadata": {},
     "output_type": "execute_result"
    }
   ],
   "source": [
    "performance_pos_df"
   ]
  }
 ],
 "metadata": {
  "kernelspec": {
   "display_name": ".venv",
   "language": "python",
   "name": "python3"
  },
  "language_info": {
   "codemirror_mode": {
    "name": "ipython",
    "version": 3
   },
   "file_extension": ".py",
   "mimetype": "text/x-python",
   "name": "python",
   "nbconvert_exporter": "python",
   "pygments_lexer": "ipython3",
   "version": "3.10.12"
  }
 },
 "nbformat": 4,
 "nbformat_minor": 5
}
